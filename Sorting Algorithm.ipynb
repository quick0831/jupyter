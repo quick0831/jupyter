{
 "cells": [
  {
   "cell_type": "markdown",
   "metadata": {},
   "source": [
    "# Sorting Algorithm\n",
    "\n",
    "## Prepare"
   ]
  },
  {
   "cell_type": "code",
   "execution_count": 5,
   "metadata": {},
   "outputs": [
    {
     "data": {
      "image/png": "[encoded data removed]",
      "text/plain": [
       "<Figure size 432x288 with 1 Axes>"
      ]
     },
     "metadata": {
      "needs_background": "light"
     },
     "output_type": "display_data"
    }
   ],
   "source": [
    "import numpy as np\n",
    "import matplotlib.pyplot as plt\n",
    "\n",
    "length=20\n",
    "\n",
    "# Create Data\n",
    "a=np.arange(1,length+1,1)\n",
    "b=a.copy()\n",
    "np.random.shuffle(b)\n",
    "\n",
    "# Draw picture\n",
    "plt.bar(a,b)\n",
    "xtick=np.arange(0,length+1,5)\n",
    "xtick[0]=1\n",
    "plt.xticks(xtick)\n",
    "plt.xlim(0.3,length+0.65)\n",
    "plt.yticks(np.arange(0,length+1,5))\n",
    "plt.ylim(0,length+1)\n",
    "plt.show()"
   ]
  },
  {
   "cell_type": "code",
   "execution_count": 2,
   "metadata": {},
   "outputs": [
    {
     "name": "stdout",
     "output_type": "stream",
     "text": [
      "Before [20  9  8 13  2  3 10  7 11  5 17 15 18 16  4 19 12 14  1  6]\n",
      "After  [20  9  8 13  2  3 10  7 11  5 17 15 18 16  4 19 12 14  1  6]\n"
     ]
    }
   ],
   "source": [
    "import numpy as np\n",
    "\n",
    "length=20\n",
    "\n",
    "# Create Data\n",
    "a=np.arange(1,length+1,1)\n",
    "np.random.shuffle(a)\n",
    "print(f\"Before {a}\")\n",
    "\n",
    "# Show Final Answer\n",
    "print(f\"After  {a}\")"
   ]
  },
  {
   "cell_type": "markdown",
   "metadata": {},
   "source": [
    "## Bubble Sort"
   ]
  },
  {
   "cell_type": "code",
   "execution_count": 3,
   "metadata": {
    "scrolled": true
   },
   "outputs": [
    {
     "name": "stdout",
     "output_type": "stream",
     "text": [
      "Before [19 14 20 17 16  3 13  2  6  1 12 15 11  5  7  8 10  4  9 18]\n",
      "After  [ 1  2  3  4  5  6  7  8  9 10 11 12 13 14 15 16 17 18 19 20]\n"
     ]
    }
   ],
   "source": [
    "import numpy as np\n",
    "\n",
    "length=20\n",
    "\n",
    "# Create Data\n",
    "a=np.arange(1,length+1,1)\n",
    "np.random.shuffle(a)\n",
    "print(f\"Before {a}\")\n",
    "\n",
    "# Bubble Sort\n",
    "for i in range(length):\n",
    "    for j in length-np.arange(length-i)-1:\n",
    "        if(a[i]>a[j]):\n",
    "            # Swap\n",
    "            #print(f\"Swap index {i} and {j}\")\n",
    "            k=a[i]\n",
    "            a[i]=a[j]\n",
    "            a[j]=k\n",
    "\n",
    "# Show Final Answer\n",
    "print(f\"After  {a}\")"
   ]
  },
  {
   "cell_type": "markdown",
   "metadata": {},
   "source": [
    "## Quick Sort\n",
    "\n",
    "### Out of place"
   ]
  },
  {
   "cell_type": "code",
   "execution_count": 8,
   "metadata": {},
   "outputs": [
    {
     "name": "stdout",
     "output_type": "stream",
     "text": [
      "Before [ 4 10  3 18  8 11 17 13  5 15  9  6  7 12 20 14  1 16  2 19]\n",
      "After  [ 4 10  3 18  8 11 17 13  5 15  9  6  7 12 20 14  1 16  2 19]\n"
     ]
    }
   ],
   "source": [
    "import numpy as np\n",
    "\n",
    "length=20\n",
    "\n",
    "# Create Data\n",
    "a=np.arange(1,length+1,1)\n",
    "np.random.shuffle(a)\n",
    "print(f\"Before {a}\")\n",
    "\n",
    "# Quick Sort\n",
    "def quick(chaos):\n",
    "    order=chaos.copy()\n",
    "    low=[]\n",
    "    high=[]\n",
    "    pivit=chaos[0]\n",
    "    progress=0\n",
    "    if\n",
    "    return order\n",
    "\n",
    "# Show Final Answer\n",
    "print(f\"After  {quick(a)}\")"
   ]
  },
  {
   "cell_type": "code",
   "execution_count": null,
   "metadata": {},
   "outputs": [],
   "source": []
  }
 ],
 "metadata": {
  "kernelspec": {
   "display_name": "Python 3",
   "language": "python",
   "name": "python3"
  },
  "language_info": {
   "codemirror_mode": {
    "name": "ipython",
    "version": 3
   },
   "file_extension": ".py",
   "mimetype": "text/x-python",
   "name": "python",
   "nbconvert_exporter": "python",
   "pygments_lexer": "ipython3",
   "version": "3.7.0"
  }
 },
 "nbformat": 4,
 "nbformat_minor": 2
}
