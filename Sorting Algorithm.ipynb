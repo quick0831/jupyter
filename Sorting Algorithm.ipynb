{
 "cells": [
  {
   "cell_type": "markdown",
   "metadata": {},
   "source": [
    "# Sorting Algorithm\n",
    "\n",
    "## Prepare"
   ]
  },
  {
   "cell_type": "code",
   "execution_count": 7,
   "metadata": {},
   "outputs": [
    {
     "data": {
      "image/png": "[encoded data removed]",
      "text/plain": [
       "<Figure size 432x288 with 1 Axes>"
      ]
     },
     "metadata": {
      "needs_background": "light"
     },
     "output_type": "display_data"
    }
   ],
   "source": [
    "import numpy as np\n",
    "import matplotlib.pyplot as plt\n",
    "\n",
    "length=20\n",
    "\n",
    "# Create Data\n",
    "a=np.arange(1,length+1,1)\n",
    "b=a.copy()\n",
    "np.random.shuffle(b)\n",
    "\n",
    "# Draw picture\n",
    "plt.bar(a,b)\n",
    "xtick=np.arange(0,length+1,5)\n",
    "xtick[0]=1\n",
    "plt.xticks(xtick)\n",
    "plt.xlim(0.3,length+0.65)\n",
    "plt.yticks(np.arange(0,length+1,5))\n",
    "plt.ylim(0,length+1)\n",
    "plt.show()"
   ]
  },
  {
   "cell_type": "code",
   "execution_count": 8,
   "metadata": {},
   "outputs": [
    {
     "name": "stdout",
     "output_type": "stream",
     "text": [
      "Before [17 18 13  1 10 14 19  2 16  4 15  6  7  8 12 11 20  9  3  5]\n",
      "After  [17 18 13  1 10 14 19  2 16  4 15  6  7  8 12 11 20  9  3  5]\n"
     ]
    }
   ],
   "source": [
    "import numpy as np\n",
    "\n",
    "length=20\n",
    "\n",
    "# Create Data\n",
    "a=np.arange(1,length+1,1)\n",
    "np.random.shuffle(a)\n",
    "print(f\"Before {a}\")\n",
    "\n",
    "# Show Final Answer\n",
    "print(f\"After  {a}\")"
   ]
  },
  {
   "cell_type": "markdown",
   "metadata": {},
   "source": [
    "## Python Sorting Hack"
   ]
  },
  {
   "cell_type": "code",
   "execution_count": 9,
   "metadata": {},
   "outputs": [
    {
     "name": "stdout",
     "output_type": "stream",
     "text": [
      "Before [ 3  5 15  2  6  8 11 17 18 16  9 12 19 13 10  7 20 14  1  4]\n",
      "After  [ 1  2  3  4  5  6  7  8  9 10 11 12 13 14 15 16 17 18 19 20]\n"
     ]
    }
   ],
   "source": [
    "import numpy as np\n",
    "\n",
    "length=20\n",
    "\n",
    "# Create Data\n",
    "a=np.arange(1,length+1,1)\n",
    "np.random.shuffle(a)\n",
    "print(f\"Before {a}\")\n",
    "\n",
    "# Sort\n",
    "def pysort(chaos):\n",
    "    return list(set(chaos))\n",
    "\n",
    "# Show Final Answer\n",
    "ans=np.array(pysort(a))\n",
    "print(f\"After  {ans}\")"
   ]
  },
  {
   "cell_type": "markdown",
   "metadata": {},
   "source": [
    "## Bubble Sort"
   ]
  },
  {
   "cell_type": "code",
   "execution_count": 10,
   "metadata": {
    "scrolled": true
   },
   "outputs": [
    {
     "name": "stdout",
     "output_type": "stream",
     "text": [
      "Before [15  1 16 20 10 11  3  7  9 18  2 17  4 12 19  8 14  6  5 13]\n",
      "After  [ 1  2  3  4  5  6  7  8  9 10 11 12 13 14 15 16 17 18 19 20]\n"
     ]
    }
   ],
   "source": [
    "import numpy as np\n",
    "\n",
    "length=20\n",
    "\n",
    "# Create Data\n",
    "a=np.arange(1,length+1,1)\n",
    "np.random.shuffle(a)\n",
    "print(f\"Before {a}\")\n",
    "\n",
    "# Bubble Sort\n",
    "for i in range(length):\n",
    "    for j in length-np.arange(length-i)-1:\n",
    "        if(a[i]>a[j]):\n",
    "            # Swap\n",
    "            #print(f\"Swap index {i} and {j}\")\n",
    "            k=a[i]\n",
    "            a[i]=a[j]\n",
    "            a[j]=k\n",
    "\n",
    "# Show Final Answer\n",
    "print(f\"After  {a}\")"
   ]
  },
  {
   "cell_type": "markdown",
   "metadata": {},
   "source": [
    "## Quick Sort\n",
    "\n",
    "### Out of place"
   ]
  },
  {
   "cell_type": "code",
   "execution_count": 11,
   "metadata": {},
   "outputs": [
    {
     "name": "stdout",
     "output_type": "stream",
     "text": [
      "Before [20  9 17 12  4 15 18  7 11  8 13 14 19  1  6  5 10  3  2 16]\n",
      "After  [ 1  2  3  4  5  6  7  8  9 10 11 12 13 14 15 16 17 18 19 20]\n"
     ]
    }
   ],
   "source": [
    "import numpy as np\n",
    "\n",
    "length=20\n",
    "\n",
    "# Create Data\n",
    "a=np.arange(1,length+1,1)\n",
    "np.random.shuffle(a)\n",
    "print(f\"Before {a}\")\n",
    "\n",
    "# Quick Sort\n",
    "def quick(chaos):\n",
    "    e=len(chaos)\n",
    "    if(e==0):\n",
    "        return chaos\n",
    "    elif(e==1):\n",
    "        return chaos\n",
    "    elif(e==2):\n",
    "        if(chaos[0]>chaos[1]):\n",
    "            return [chaos[1],chaos[0]]\n",
    "        else:\n",
    "            return chaos\n",
    "    else:\n",
    "        low=[]\n",
    "        high=[]\n",
    "        pivit=np.random.choice(chaos)\n",
    "        progress=0\n",
    "        for item in chaos:\n",
    "            if (item>pivit):\n",
    "                high.append(item)\n",
    "            else:\n",
    "                low.append(item)\n",
    "        return quick(low)+quick(high)\n",
    "\n",
    "# Show Final Answer\n",
    "ans=np.array(quick(a))\n",
    "print(f\"After  {ans}\")"
   ]
  },
  {
   "cell_type": "markdown",
   "metadata": {},
   "source": [
    "## Merge Sort\n",
    "\n",
    "### Out of place"
   ]
  },
  {
   "cell_type": "code",
   "execution_count": 12,
   "metadata": {},
   "outputs": [
    {
     "name": "stdout",
     "output_type": "stream",
     "text": [
      "Before [15 11  4  5 12 20  7 19 18  6  2  8 13  3 16 14  1 17 10  9]\n",
      "After  [ 1  2  3  4  5  6  7  8  9 10 11 12 13 14 15 16 17 18 19 20]\n"
     ]
    }
   ],
   "source": [
    "import numpy as np\n",
    "\n",
    "length=20\n",
    "\n",
    "# Create Data\n",
    "a=np.arange(1,length+1,1)\n",
    "np.random.shuffle(a)\n",
    "print(f\"Before {a}\")\n",
    "\n",
    "# Merge Sort\n",
    "def merge(chaos):\n",
    "    e=len(chaos) # elements\n",
    "    if(e==0):\n",
    "        return chaos\n",
    "    elif(e==1):\n",
    "        return chaos\n",
    "    elif(e==2):\n",
    "        if(chaos[0]>chaos[1]):\n",
    "            return [chaos[1],chaos[0]]\n",
    "        else:\n",
    "            return chaos\n",
    "    else:\n",
    "        split=e//2\n",
    "        m=merge(chaos[:split])\n",
    "        n=merge(chaos[split:])\n",
    "        order=[]\n",
    "        mi=0 # Processing index\n",
    "        ni=0\n",
    "        me=len(m)\n",
    "        ne=len(n)\n",
    "        for i in range(e):\n",
    "            if(mi>=me):\n",
    "                order.append(n[ni])\n",
    "                ni+=1\n",
    "            elif(ni>=ne):\n",
    "                order.append(m[mi])\n",
    "                mi+=1\n",
    "            else:\n",
    "                if(m[mi]>n[ni]):\n",
    "                    order.append(n[ni])\n",
    "                    ni+=1\n",
    "                else:\n",
    "                    order.append(m[mi])\n",
    "                    mi+=1\n",
    "        return order\n",
    "\n",
    "# Show Final Answer\n",
    "ans=np.array(merge(a))\n",
    "print(f\"After  {ans}\")"
   ]
  },
  {
   "cell_type": "code",
   "execution_count": null,
   "metadata": {},
   "outputs": [],
   "source": []
  },
  {
   "cell_type": "code",
   "execution_count": null,
   "metadata": {},
   "outputs": [],
   "source": []
  }
 ],
 "metadata": {
  "kernelspec": {
   "display_name": "Python 3",
   "language": "python",
   "name": "python3"
  },
  "language_info": {
   "codemirror_mode": {
    "name": "ipython",
    "version": 3
   },
   "file_extension": ".py",
   "mimetype": "text/x-python",
   "name": "python",
   "nbconvert_exporter": "python",
   "pygments_lexer": "ipython3",
   "version": "3.7.0"
  }
 },
 "nbformat": 4,
 "nbformat_minor": 2
}
