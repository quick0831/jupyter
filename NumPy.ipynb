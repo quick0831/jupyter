{
 "cells": [
  {
   "cell_type": "markdown",
   "metadata": {},
   "source": [
    "# NumPy\n",
    "\n",
    "## Import first\n",
    "\n",
    "use `import numpy`\n",
    "\n",
    "usually add `as np` to shorten the name"
   ]
  },
  {
   "cell_type": "code",
   "execution_count": 1,
   "metadata": {},
   "outputs": [],
   "source": [
    "import numpy as np"
   ]
  },
  {
   "cell_type": "markdown",
   "metadata": {},
   "source": [
    "## Create line"
   ]
  },
  {
   "cell_type": "code",
   "execution_count": 4,
   "metadata": {
    "scrolled": true
   },
   "outputs": [
    {
     "name": "stdout",
     "output_type": "stream",
     "text": [
      "a = [  1.   2.   3.   4.   5.   6.   7.   8.   9.  10.  11.  12.  13.  14.\n",
      "  15.  16.  17.  18.  19.  20.  21.  22.  23.  24.  25.  26.  27.  28.\n",
      "  29.  30.  31.  32.  33.  34.  35.  36.  37.  38.  39.  40.  41.  42.\n",
      "  43.  44.  45.  46.  47.  48.  49.  50.  51.  52.  53.  54.  55.  56.\n",
      "  57.  58.  59.  60.  61.  62.  63.  64.  65.  66.  67.  68.  69.  70.\n",
      "  71.  72.  73.  74.  75.  76.  77.  78.  79.  80.  81.  82.  83.  84.\n",
      "  85.  86.  87.  88.  89.  90.  91.  92.  93.  94.  95.  96.  97.  98.\n",
      "  99. 100.]\n",
      "b = [6.0000e+00 1.7000e+01 3.4000e+01 5.7000e+01 8.6000e+01 1.2100e+02\n",
      " 1.6200e+02 2.0900e+02 2.6200e+02 3.2100e+02 3.8600e+02 4.5700e+02\n",
      " 5.3400e+02 6.1700e+02 7.0600e+02 8.0100e+02 9.0200e+02 1.0090e+03\n",
      " 1.1220e+03 1.2410e+03 1.3660e+03 1.4970e+03 1.6340e+03 1.7770e+03\n",
      " 1.9260e+03 2.0810e+03 2.2420e+03 2.4090e+03 2.5820e+03 2.7610e+03\n",
      " 2.9460e+03 3.1370e+03 3.3340e+03 3.5370e+03 3.7460e+03 3.9610e+03\n",
      " 4.1820e+03 4.4090e+03 4.6420e+03 4.8810e+03 5.1260e+03 5.3770e+03\n",
      " 5.6340e+03 5.8970e+03 6.1660e+03 6.4410e+03 6.7220e+03 7.0090e+03\n",
      " 7.3020e+03 7.6010e+03 7.9060e+03 8.2170e+03 8.5340e+03 8.8570e+03\n",
      " 9.1860e+03 9.5210e+03 9.8620e+03 1.0209e+04 1.0562e+04 1.0921e+04\n",
      " 1.1286e+04 1.1657e+04 1.2034e+04 1.2417e+04 1.2806e+04 1.3201e+04\n",
      " 1.3602e+04 1.4009e+04 1.4422e+04 1.4841e+04 1.5266e+04 1.5697e+04\n",
      " 1.6134e+04 1.6577e+04 1.7026e+04 1.7481e+04 1.7942e+04 1.8409e+04\n",
      " 1.8882e+04 1.9361e+04 1.9846e+04 2.0337e+04 2.0834e+04 2.1337e+04\n",
      " 2.1846e+04 2.2361e+04 2.2882e+04 2.3409e+04 2.3942e+04 2.4481e+04\n",
      " 2.5026e+04 2.5577e+04 2.6134e+04 2.6697e+04 2.7266e+04 2.7841e+04\n",
      " 2.8422e+04 2.9009e+04 2.9602e+04 3.0201e+04]\n"
     ]
    }
   ],
   "source": [
    "a=np.linspace(1,100,100)\n",
    "b=3*(a**2)+2*a+1\n",
    "print(f\"a = {a}\\nb = {b}\")"
   ]
  },
  {
   "cell_type": "code",
   "execution_count": 6,
   "metadata": {},
   "outputs": [
    {
     "data": {
      "image/png": "[encoded data removed]",
      "text/plain": [
       "<Figure size 432x288 with 1 Axes>"
      ]
     },
     "metadata": {
      "needs_background": "light"
     },
     "output_type": "display_data"
    }
   ],
   "source": [
    "import matplotlib.pyplot as plt\n",
    "plt.plot(a,b)\n",
    "plt.show()"
   ]
  },
  {
   "cell_type": "markdown",
   "metadata": {},
   "source": [
    "## Create arange"
   ]
  },
  {
   "cell_type": "code",
   "execution_count": 7,
   "metadata": {},
   "outputs": [
    {
     "name": "stdout",
     "output_type": "stream",
     "text": [
      "[1 2 3 4 5 6 7 8 9]\n"
     ]
    }
   ],
   "source": [
    "c=np.arange(1,10,1)\n",
    "print(c)"
   ]
  },
  {
   "cell_type": "markdown",
   "metadata": {},
   "source": [
    "## Create array"
   ]
  },
  {
   "cell_type": "code",
   "execution_count": 9,
   "metadata": {},
   "outputs": [
    {
     "name": "stdout",
     "output_type": "stream",
     "text": [
      "[1, 2, 3, 4, 5, 6, 7, 8, 9, 10]\n",
      "[ 1  2  3  4  5  6  7  8  9 10]\n"
     ]
    }
   ],
   "source": [
    "d=[1,2,3,4,5,6,7,8,9,10]\n",
    "e=np.array(d)\n",
    "print(d)\n",
    "print(e)"
   ]
  },
  {
   "cell_type": "code",
   "execution_count": 15,
   "metadata": {},
   "outputs": [
    {
     "name": "stdout",
     "output_type": "stream",
     "text": [
      "[[ 1  2  3  4  5  6  7  8  9 10]\n",
      " [ 1  2  3  4  5  6  7  8  9 10]\n",
      " [ 1  2  3  4  5  6  7  8  9 10]]\n"
     ]
    }
   ],
   "source": [
    "np.array(d).reshape(2,5)\n",
    "g=[d,d,d]\n",
    "g=np.array(g)\n",
    "print(g)"
   ]
  },
  {
   "cell_type": "markdown",
   "metadata": {},
   "source": [
    "## Constants and Functions"
   ]
  },
  {
   "cell_type": "code",
   "execution_count": 16,
   "metadata": {},
   "outputs": [
    {
     "name": "stdout",
     "output_type": "stream",
     "text": [
      "3.141592653589793\n"
     ]
    }
   ],
   "source": [
    "print(np.pi)"
   ]
  },
  {
   "cell_type": "code",
   "execution_count": 23,
   "metadata": {},
   "outputs": [
    {
     "name": "stdout",
     "output_type": "stream",
     "text": [
      "1.0\n"
     ]
    }
   ],
   "source": [
    "h=np.sin(np.pi/2)\n",
    "print(h)"
   ]
  },
  {
   "cell_type": "code",
   "execution_count": null,
   "metadata": {},
   "outputs": [],
   "source": []
  }
 ],
 "metadata": {
  "kernelspec": {
   "display_name": "Python 3",
   "language": "python",
   "name": "python3"
  },
  "language_info": {
   "codemirror_mode": {
    "name": "ipython",
    "version": 3
   },
   "file_extension": ".py",
   "mimetype": "text/x-python",
   "name": "python",
   "nbconvert_exporter": "python",
   "pygments_lexer": "ipython3",
   "version": "3.7.0"
  }
 },
 "nbformat": 4,
 "nbformat_minor": 2
}
